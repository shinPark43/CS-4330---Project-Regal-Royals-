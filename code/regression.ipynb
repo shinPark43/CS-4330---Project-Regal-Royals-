{
  "nbformat": 4,
  "nbformat_minor": 0,
  "metadata": {
    "colab": {
      "provenance": []
    },
    "kernelspec": {
      "name": "python3",
      "display_name": "Python 3"
    },
    "language_info": {
      "name": "python"
    }
  },
  "cells": [
    {
      "cell_type": "markdown",
      "source": [
        "**Progress Report #2 - Regression**\n",
        "\n",
        "Team Name: Regal Royals\n",
        "\n",
        "1. Shinhyuk Park\n",
        "2. Devin Dupree\n",
        "3. Samnang Pech"
      ],
      "metadata": {
        "id": "O0-t2i4spKe-"
      }
    },
    {
      "cell_type": "markdown",
      "source": [
        "# **Dataset**"
      ],
      "metadata": {
        "id": "FEzOnq5QNtvp"
      }
    },
    {
      "cell_type": "markdown",
      "source": [
        "Name: Electric Vehicle Population Data\n",
        "\n",
        "Size: 205440 + 17 features\n",
        "\n",
        "Features:\n",
        "- **VIN (1-10):** The first 10 characters of the Vehicle Identification Number, a unique identifier for each vehicle.\n",
        "- **County:** The county where the vehicle is registered.\n",
        "- **City:** The city where the vehicle is registered.\n",
        "- **State:** The state where the vehicle is registered.\n",
        "- **Postal Code:** The postal code corresponding to the vehicle's registration address.\n",
        "- **Model Year:** The year the vehicle was manufactured.\n",
        "- **Make:** The manufacturer of the vehicle (e.g., Tesla, Nissan).\n",
        "- **Model:** The specific model of the vehicle (e.g., Model 3, Leaf).\n",
        "- **Electric Vehicle Type:** Whether the vehicle is a battery electric vehicle (BEV) or a plug-in hybrid electric vehicle (PHEV).\n",
        "- **Clean Alternative Fuel Vehicle:** Whether the vehicle qualifies as a clean alternative fuel vehicle.\n",
        "- **Electric Range:** The range the vehicle can travel on electric power alone (in miles).\n",
        "- **Base MSRP:** The Manufacturer’s Suggested Retail Price (base price) of the vehicle.\n",
        "- **Legislative District:** The legislative district associated with the vehicle's registration.\n",
        "- **DOL Vehicle ID:** An internal identifier used by the Department of Licensing for the vehicle.\n",
        "- **Vehicle Location:** The geographical coordinates (latitude and longitude) of the vehicle’s registration location.\n",
        "- **Electric Utility:** The electric utility provider associated with the vehicle’s registration address.\n",
        "- **2020 Census Tract:** The census tract where the vehicle is registered, based on the 2020 Census data."
      ],
      "metadata": {
        "id": "-lL43WD4bmeU"
      }
    },
    {
      "cell_type": "markdown",
      "source": [
        "This code imports various Python libraries for data analysis, machine learning, and plotting. It then loads an electric vehicle dataset from an online source (Excel file) into a DataFrame called eCar, preparing it for further analysis."
      ],
      "metadata": {
        "id": "82W0JaGIOFLo"
      }
    },
    {
      "cell_type": "code",
      "execution_count": 2,
      "metadata": {
        "id": "BP5-U7kIoR89"
      },
      "outputs": [],
      "source": [
        "import pandas as pd\n",
        "import numpy as np\n",
        "import matplotlib.pyplot as plt\n",
        "from sklearn import metrics\n",
        "from sklearn.linear_model import LinearRegression\n",
        "from sklearn.linear_model import LogisticRegression\n",
        "from sklearn.feature_selection import r_regression\n",
        "from mpl_toolkits.mplot3d import Axes3D\n",
        "from sklearn.preprocessing import LabelEncoder\n",
        "\n",
        "\n",
        "url = 'https://raw.githubusercontent.com/shinPark43/CS-4330---Project-Regal-Royals-/main/dataset/Electric_Vehicle_Population_Data.xlsx'\n",
        "eCar = pd.read_excel(url)"
      ]
    },
    {
      "cell_type": "markdown",
      "source": [
        "# **Linear Regression**"
      ],
      "metadata": {
        "id": "zbHSodAspYRH"
      }
    },
    {
      "cell_type": "markdown",
      "source": [
        "This section creates a linear regression model using two selected attributes from the eCar dataset. It also uses matplotlib to plot the observed values against the predicted values."
      ],
      "metadata": {
        "id": "wSld6pSG7C-O"
      }
    },
    {
      "cell_type": "markdown",
      "source": [
        "1. This code analyzes how the electric range of vehicles has improved in more recent models and visualizes this trend. It begins by cleaning the data, removing any rows with missing values in the \"Model Year\" or \"Electric Range\" columns. Then, it filters the data to include only vehicles made after 2014 with an electric range of at least 200 miles, focusing on modern electric cars with practical ranges. Using this filtered data, it trains a linear regression model to predict the electric range based on the model year. Finally, it creates a scatter plot of actual data points (in purple) and overlays a green line showing the model’s predicted trend."
      ],
      "metadata": {
        "id": "_KR32uvRTEtO"
      }
    },
    {
      "cell_type": "code",
      "source": [
        "eCar_linear = eCar.dropna(subset=['Model Year', 'Electric Range'])\n",
        "eCar_linear = eCar_linear[~((eCar_linear['Model Year'] <= 2014) | (eCar_linear['Electric Range'] < 200))]\n",
        "\n",
        "ModelYear = eCar_linear[['Model Year']].values.reshape(-1, 1)\n",
        "ElectricRange = eCar_linear[['Electric Range']].values.reshape(-1, 1)\n",
        "\n",
        "model = LinearRegression()\n",
        "\n",
        "model.fit(ModelYear, ElectricRange)\n",
        "ElectricRangePredicted = model.predict(ModelYear)\n",
        "\n",
        "plt.scatter(ModelYear, ElectricRange, color='purple')\n",
        "plt.plot(ModelYear, ElectricRangePredicted, color='green', linewidth=2)\n",
        "plt.xlabel('Model Year', fontsize=14)\n",
        "plt.ylabel('Electric Range (Mi)', fontsize=14)"
      ],
      "metadata": {
        "id": "hqRSqee7TIPJ",
        "colab": {
          "base_uri": "https://localhost:8080/",
          "height": 471
        },
        "outputId": "650af463-78a3-49c9-c4b5-dde554fd066e"
      },
      "execution_count": 12,
      "outputs": [
        {
          "output_type": "execute_result",
          "data": {
            "text/plain": [
              "Text(0, 0.5, 'Electric Range (Mi)')"
            ]
          },
          "metadata": {},
          "execution_count": 12
        },
        {
          "output_type": "display_data",
          "data": {
            "text/plain": [
              "<Figure size 640x480 with 1 Axes>"
            ],
            "image/png": "[encoded data removed]"
          },
          "metadata": {}
        }
      ]
    },
    {
      "cell_type": "markdown",
      "source": [
        "**Interpretation**\n",
        "\n",
        "- From the results of this code, we can interpret that electric vehicles (EVs) have shown significant improvements in their electric range over the years, particularly in vehicles produced after 2014. The linear regression model's green line indicates a positive trend, meaning that as the model year increases, the electric range also tends to increase. This suggests advancements in EV technology, such as better battery efficiency and capacity, are allowing newer vehicles to meet consumer demands for longer driving ranges."
      ],
      "metadata": {
        "id": "9p4KNDtxqP2K"
      }
    },
    {
      "cell_type": "markdown",
      "source": [
        "# **Mutiple Linear Regression**"
      ],
      "metadata": {
        "id": "e161vegjpfzV"
      }
    },
    {
      "cell_type": "markdown",
      "source": [
        "This section creates a multiple linear regression model using more than two selected attributes from the eCar dataset. It also uses matplotlib to plot the observed values against the predicted values."
      ],
      "metadata": {
        "id": "9jG48z5U7eRP"
      }
    },
    {
      "cell_type": "markdown",
      "source": [
        "**1. Extract Latitude and Longitude from 'Vehicle Location**\n",
        "\n",
        "This code checks if the Vehicle Location column exists in the dataset and extracts Latitude and Longitude values from it, assuming the format is \"POINT (latitude longitude).\" This allows us to use these values as individual features in our regression model."
      ],
      "metadata": {
        "id": "4C02dL-pT8um"
      }
    },
    {
      "cell_type": "code",
      "source": [
        "# Assuming 'Vehicle Location' is in the format \"POINT (latitude longitude)\"\n",
        "if 'Vehicle Location' in eCar.columns:\n",
        "    eCar[['Latitude', 'Longitude']] = eCar['Vehicle Location'].str.extract(r'POINT \\(([-\\d\\.]+) ([-\\d\\.]+)\\)').astype(float)"
      ],
      "metadata": {
        "id": "v7MXK_pzT1Q0"
      },
      "execution_count": null,
      "outputs": []
    },
    {
      "cell_type": "markdown",
      "source": [
        "**Interpretation**\n",
        "\n",
        "\n",
        "\n",
        "*   Separates Latitude and Longitude from Vehicle Location, making them individual features in the dataset.\n",
        "*   Uses a regular expression to capture the numeric values within parentheses, ensuring they are in a usable format.\n",
        "*   Creates two new columns, Latitude and Longitude, for further analysis in the model.\n",
        "*   Enables exploration of the effect of location on electric range by including geographic data as separate predictors.\n",
        "\n",
        "\n"
      ],
      "metadata": {
        "id": "N60Mi3pemBTE"
      }
    },
    {
      "cell_type": "markdown",
      "source": [
        "**2. Define Initial Features and Target**\n",
        "\n",
        "Now that we have extracted Latitude and Longitude, we define our initial set of features and the target variable. We use Model Year, Latitude, and Longitude as predictors and Electric Range as the target variable.\n"
      ],
      "metadata": {
        "id": "bm0nMvNbVRXY"
      }
    },
    {
      "cell_type": "code",
      "source": [
        "# Define features and target with multiple attributes\n",
        "X_multiple = eCar[['Model Year', 'Latitude', 'Longitude']].values\n",
        "y = eCar['Electric Range'].values.reshape(-1, 1)"
      ],
      "metadata": {
        "id": "rzkHp5BHiWk0"
      },
      "execution_count": null,
      "outputs": []
    },
    {
      "cell_type": "markdown",
      "source": [
        "**Interpretation**\n",
        "\n",
        "\n",
        "\n",
        "*   Defines Model Year, Latitude, and Longitude as features to examine their potential impact on Electric Range.\n",
        "*   Converts these selected features into a matrix format required for model training.\n",
        "*   Sets Electric Range as the target variable, which the model will attempt to predict.\n",
        "*   Prepares data for exploring how production year and geographic location may influence the electric range of vehicles.\n",
        "\n",
        "\n",
        "\n"
      ],
      "metadata": {
        "id": "9akprKr1mEcp"
      }
    },
    {
      "cell_type": "markdown",
      "source": [
        "**3. Encode Categorical Feature 'Model'**\n",
        "\n",
        "We use label encoding to transform the Model feature into a numeric format suitable for regression analysis."
      ],
      "metadata": {
        "id": "Lo1B6nzcijdr"
      }
    },
    {
      "cell_type": "code",
      "source": [
        "# Convert all entries in 'Model' to strings\n",
        "eCar['Model'] = eCar['Model'].astype(str)\n",
        "\n",
        "# Encode 'Model' using label encoding\n",
        "label_encoder = LabelEncoder()\n",
        "eCar['Model_encoded'] = label_encoder.fit_transform(eCar['Model'])"
      ],
      "metadata": {
        "id": "bgUwAScEcA2g"
      },
      "execution_count": null,
      "outputs": []
    },
    {
      "cell_type": "markdown",
      "source": [
        "**Interpretation**\n",
        "\n",
        "\n",
        "\n",
        "*   Converts Model entries to strings to ensure consistent data type for encoding.\n",
        "*   Applies label encoding to transform each unique vehicle model into a numerical value, making it compatible with the regression model.\n",
        "*   Adds a new column, Model_encoded, which represents each vehicle model as an integer.\n",
        "*   Facilitates analysis of the influence of different vehicle models on electric range by making Model a numeric feature.\n",
        "\n",
        "\n",
        "\n",
        "\n",
        "\n"
      ],
      "metadata": {
        "id": "XxxojP97mFHw"
      }
    },
    {
      "cell_type": "markdown",
      "source": [
        "**4. Define Final Features and Target for Model Training**\n",
        "\n",
        "After encoding Model, we finalize our features to include Model Year, Latitude, Longitude, and Model_encoded. Electric Range remains as the target variable."
      ],
      "metadata": {
        "id": "XEbzoWixjIsG"
      }
    },
    {
      "cell_type": "code",
      "source": [
        "# Define features (Model Year, Latitude, Longitude, Model_encoded) and target (Electric Range)\n",
        "X = eCar[['Model Year', 'Latitude', 'Longitude', 'Model_encoded']].values\n",
        "y = eCar['Electric Range'].values.reshape(-1, 1)"
      ],
      "metadata": {
        "id": "ChPinrjwcIvN"
      },
      "execution_count": null,
      "outputs": []
    },
    {
      "cell_type": "markdown",
      "source": [
        "**Interpretation**\n",
        "\n",
        "\n",
        "\n",
        "*   Finalizes the feature set to include Model Year, Latitude, Longitude, and Model_encoded to capture temporal, geographic, and categorical factors.\n",
        "\n",
        "*   Sets Electric Range as the target variable, which the model will predict based on the selected features.\n",
        "*   Converts features and target to matrix form, preparing the data structure needed for training the regression model.\n",
        "\n",
        "*   Combines diverse features, enabling the model to explore how production year, location, and model type together influence electric range.\n",
        "\n"
      ],
      "metadata": {
        "id": "XV9fBjTmmF25"
      }
    },
    {
      "cell_type": "markdown",
      "source": [
        "**5. Train the Linear Regression Model**\n",
        "\n",
        "In this section, we handle any missing values in the selected features and target variable, define X (features) and y (target), initialize and train the linear regression model."
      ],
      "metadata": {
        "id": "u_XVBkw6jocJ"
      }
    },
    {
      "cell_type": "code",
      "source": [
        "# Check for missing values in the features and target columns\n",
        "print(\"Missing values before handling:\")\n",
        "print(eCar[['Model Year', 'Latitude', 'Longitude', 'Model_encoded', 'Electric Range']].isna().sum())\n",
        "\n",
        "# Drop rows with any NaN values in the required columns\n",
        "eCar = eCar.dropna(subset=['Model Year', 'Latitude', 'Longitude', 'Model_encoded', 'Electric Range'])\n",
        "\n",
        "# Define features and target\n",
        "X = eCar[['Model Year', 'Latitude', 'Longitude', 'Model_encoded']].values\n",
        "y = eCar['Electric Range'].values.reshape(-1, 1)\n",
        "\n",
        "# Initialize and fit the model\n",
        "lin_model = LinearRegression()\n",
        "lin_model.fit(X, y)\n",
        "\n",
        "# Display the model intercept and coefficients\n",
        "print(\"Intercept:\", lin_model.intercept_[0])\n",
        "print(\"Coefficients:\", lin_model.coef_)"
      ],
      "metadata": {
        "id": "SBXQYKRugX9a",
        "colab": {
          "base_uri": "https://localhost:8080/"
        },
        "outputId": "70e38e65-c67d-43e5-fa62-d5dafa2f3e05"
      },
      "execution_count": null,
      "outputs": [
        {
          "output_type": "stream",
          "name": "stdout",
          "text": [
            "Missing values before handling:\n",
            "Model Year        0\n",
            "Latitude          6\n",
            "Longitude         6\n",
            "Model_encoded     0\n",
            "Electric Range    0\n",
            "dtype: int64\n",
            "Intercept: 10733.863913038906\n",
            "Coefficients: [[-5.28879224  0.06284285  3.3147708  -1.64892485]]\n"
          ]
        }
      ]
    },
    {
      "cell_type": "markdown",
      "source": [
        "**Interpretation**\n",
        "\n",
        "\n",
        "*   Checks for missing values in essential columns to ensure data quality before training.\n",
        "\n",
        "*   Drops any rows with missing values in Model Year, Latitude, Longitude, Model_encoded, and Electric Range, creating a complete dataset for model accuracy.\n",
        "*   Initializes and trains the linear regression model with X as features and y as the target, fitting the model to learn relationships within the data.\n",
        "\n",
        "*   Displays the intercept and coefficients, and calculates the R-squared score to assess how well the model explains variability in Electric Range.\n"
      ],
      "metadata": {
        "id": "2qUgVZZ3mH5z"
      }
    },
    {
      "cell_type": "markdown",
      "source": [
        "**6. 3D Visualization of Observed vs. Predicted Values**\n",
        "\n",
        "We create a 3D plot to visualize the sampled observed data points along with the regression plane. This visualization helps us visually assess the fit of the model."
      ],
      "metadata": {
        "id": "c5_VQsQBkLfo"
      }
    },
    {
      "cell_type": "code",
      "source": [
        "# Set up the 3D plot\n",
        "fig = plt.figure()\n",
        "ax = fig.add_subplot(111, projection='3d')\n",
        "\n",
        "# Sample a subset of the data for plotting (e.g., 200 points)\n",
        "sample_size = 200\n",
        "sample_indices = np.random.choice(len(X), sample_size, replace=False)\n",
        "X_sample = X[sample_indices]\n",
        "y_sample = y[sample_indices]\n",
        "\n",
        "# Scatter plot of the sampled observed data points with reduced marker size and transparency\n",
        "ax.scatter3D(X_sample[:, 0], X_sample[:, 3], y_sample, color=\"black\", s=5, alpha=0.5, label=\"Sampled Observed Data\")\n",
        "\n",
        "# Generate a mesh grid for Model Year and Model_encoded to plot the regression plane\n",
        "x1_range = np.linspace(X[:, 0].min(), X[:, 0].max(), 10)\n",
        "x2_range = np.linspace(X[:, 3].min(), X[:, 3].max(), 10)\n",
        "x1_mesh, x2_mesh = np.meshgrid(x1_range, x2_range)\n",
        "\n",
        "# Calculate the predicted Electric Range for each point on the mesh grid\n",
        "y_pred_mesh = (\n",
        "    lin_model.intercept_[0]\n",
        "    + lin_model.coef_[0][0] * x1_mesh\n",
        "    + lin_model.coef_[0][3] * x2_mesh\n",
        ")\n",
        "\n",
        "# Plot the regression plane\n",
        "ax.plot_surface(x1_mesh, x2_mesh, y_pred_mesh, color='blue', alpha=0.5)\n",
        "\n",
        "# Label the axes\n",
        "ax.set_xlabel('Model Year')\n",
        "ax.set_ylabel('Model (encoded)')\n",
        "ax.set_zlabel('Electric Range (miles)')\n",
        "\n",
        "# Set the view angle\n",
        "ax.view_init(30, 50)\n",
        "plt.title(\"3D Visualization of Multiple Linear Regression with Sampled Data\")\n",
        "plt.legend()\n",
        "plt.show()"
      ],
      "metadata": {
        "id": "8w9SLpmLgda-",
        "colab": {
          "base_uri": "https://localhost:8080/",
          "height": 438
        },
        "outputId": "7c3d46ba-64f0-43f6-c094-f1c565bd9368"
      },
      "execution_count": null,
      "outputs": [
        {
          "output_type": "display_data",
          "data": {
            "text/plain": [
              "<Figure size 640x480 with 1 Axes>"
            ],
            "image/png": "[encoded data removed]"
          },
          "metadata": {}
        }
      ]
    },
    {
      "cell_type": "markdown",
      "source": [
        "**Interpretation**\n",
        "\n",
        "*   Sets up a 3D plot to visualize the relationship between Model Year, Model_encoded, and Electric Range, helping illustrate the model’s predictions in three-dimensional space.\n",
        "\n",
        "*   Generates a regression plane using a mesh grid, based on the model’s intercept and coefficients, to show predicted Electric Range values.\n",
        "\n",
        "*   Provides a visual comparison between observed data points and the regression plane, allowing assessment of the model’s fit and alignment with actual data.\n"
      ],
      "metadata": {
        "id": "K3rbfVSDmI6U"
      }
    },
    {
      "cell_type": "markdown",
      "source": [
        "# **Logistic Regression**"
      ],
      "metadata": {
        "id": "xrl-Divgpid1"
      }
    },
    {
      "cell_type": "markdown",
      "source": [
        "This section creates a logistic regression model using some selected attributes from the eCar dataset. It also uses matplotlib to plot the observed values against the predicted values."
      ],
      "metadata": {
        "id": "7nhZv5hZqo9s"
      }
    },
    {
      "cell_type": "markdown",
      "source": [
        "1. The code cleans the eCar dataframe by removing rows with missing values, filtering out BEVs with low electric ranges, converting the Electric Vehicle Type to numerical values, and selecting a random sample of 250 rows to quickly show the changes made in the previous steps. These steps make the data cleaner and easier to work with for further analysis."
      ],
      "metadata": {
        "id": "4XfZZGqj_ogp"
      }
    },
    {
      "cell_type": "code",
      "source": [
        "eCar = eCar.dropna(subset=['Electric Vehicle Type', 'Electric Range'])\n",
        "eCar = eCar[~((eCar['Electric Vehicle Type'] == 'Battery Electric Vehicle (BEV)') & (eCar['Electric Range'] < 90))]\n",
        "\n",
        "eCar.loc[eCar['Electric Vehicle Type'] == 'Battery Electric Vehicle (BEV)', 'Electric Vehicle Type'] = 1\n",
        "eCar.loc[eCar['Electric Vehicle Type'] == 'Plug-in Hybrid Electric Vehicle (PHEV)', 'Electric Vehicle Type'] = 0\n",
        "\n",
        "eCar_sample = eCar.sample(n=250)\n",
        "eCar"
      ],
      "metadata": {
        "id": "IqQDr7zQVy6n",
        "colab": {
          "base_uri": "https://localhost:8080/",
          "height": 806
        },
        "outputId": "5f1e7d37-bcb8-4c70-d5f2-55f08ce4b515"
      },
      "execution_count": null,
      "outputs": [
        {
          "output_type": "execute_result",
          "data": {
            "text/plain": [
              "        VIN (1-10)     County        City State  Postal Code  Model Year  \\\n",
              "0       JTMAB3FV3P     Kitsap     Seabeck    WA      98380.0        2023   \n",
              "1       1N4AZ1CP6J     Kitsap   Bremerton    WA      98312.0        2018   \n",
              "2       5YJ3E1EA4L       King     Seattle    WA      98101.0        2020   \n",
              "4       1G1FX6S00H   Thurston        Yelm    WA      98597.0        2017   \n",
              "5       5YJYGDEE5L  Snohomish    Lynnwood    WA      98036.0        2020   \n",
              "...            ...        ...         ...   ...          ...         ...   \n",
              "205426  KNDCE3LG9L  Snohomish  Marysville    WA      98270.0        2020   \n",
              "205431  5YJ3E1EA4L  Snohomish  Marysville    WA      98270.0        2020   \n",
              "205433  WA1E2AFY9P      Clark   Vancouver    WA      98664.0        2023   \n",
              "205436  5YJXCDE22H    Spokane      Cheney    WA      99004.0        2017   \n",
              "205437  5YJ3E1EA3J       King      Vashon    WA      98070.0        2018   \n",
              "\n",
              "             Make       Model Electric Vehicle Type  \\\n",
              "0          TOYOTA  RAV4 PRIME                     0   \n",
              "1          NISSAN        LEAF                     1   \n",
              "2           TESLA     MODEL 3                     1   \n",
              "4       CHEVROLET     BOLT EV                     1   \n",
              "5           TESLA     MODEL Y                     1   \n",
              "...           ...         ...                   ...   \n",
              "205426        KIA        NIRO                     1   \n",
              "205431      TESLA     MODEL 3                     1   \n",
              "205433       AUDI        Q5 E                     0   \n",
              "205436      TESLA     MODEL X                     1   \n",
              "205437      TESLA     MODEL 3                     1   \n",
              "\n",
              "       Clean Alternative Fuel Vehicle (CAFV) Eligibility  Electric Range  \\\n",
              "0                Clean Alternative Fuel Vehicle Eligible            42.0   \n",
              "1                Clean Alternative Fuel Vehicle Eligible           151.0   \n",
              "2                Clean Alternative Fuel Vehicle Eligible           266.0   \n",
              "4                Clean Alternative Fuel Vehicle Eligible           238.0   \n",
              "5                Clean Alternative Fuel Vehicle Eligible           291.0   \n",
              "...                                                  ...             ...   \n",
              "205426           Clean Alternative Fuel Vehicle Eligible           239.0   \n",
              "205431           Clean Alternative Fuel Vehicle Eligible           266.0   \n",
              "205433             Not eligible due to low battery range            23.0   \n",
              "205436           Clean Alternative Fuel Vehicle Eligible           200.0   \n",
              "205437           Clean Alternative Fuel Vehicle Eligible           215.0   \n",
              "\n",
              "        Base MSRP  Legislative District  DOL Vehicle ID  \\\n",
              "0             0.0                  35.0       240684006   \n",
              "1             0.0                  35.0       474183811   \n",
              "2             0.0                  43.0       113120017   \n",
              "4             0.0                  20.0       176448940   \n",
              "5             0.0                  21.0       124511187   \n",
              "...           ...                   ...             ...   \n",
              "205426        0.0                  38.0       172207248   \n",
              "205431        0.0                  38.0       127376686   \n",
              "205433        0.0                  49.0       240695682   \n",
              "205436        0.0                   6.0       221631588   \n",
              "205437        0.0                  34.0       336983496   \n",
              "\n",
              "                       Vehicle Location  \\\n",
              "0       POINT (-122.8728334 47.5798304)   \n",
              "1       POINT (-122.6961203 47.5759584)   \n",
              "2       POINT (-122.3340795 47.6099315)   \n",
              "4       POINT (-122.5715761 46.9095798)   \n",
              "5         POINT (-122.287143 47.812199)   \n",
              "...                                 ...   \n",
              "205426  POINT (-122.1515174 48.0650751)   \n",
              "205431  POINT (-122.1515174 48.0650751)   \n",
              "205433    POINT (-122.575383 45.620105)   \n",
              "205436  POINT (-117.5836098 47.4951312)   \n",
              "205437    POINT (-122.466938 47.429244)   \n",
              "\n",
              "                                         Electric Utility  2020 Census Tract  \n",
              "0                                  PUGET SOUND ENERGY INC       5.303509e+10  \n",
              "1                                  PUGET SOUND ENERGY INC       5.303508e+10  \n",
              "2            CITY OF SEATTLE - (WA)|CITY OF TACOMA - (WA)       5.303301e+10  \n",
              "4                                  PUGET SOUND ENERGY INC       5.306701e+10  \n",
              "5                                  PUGET SOUND ENERGY INC       5.306105e+10  \n",
              "...                                                   ...                ...  \n",
              "205426                             PUGET SOUND ENERGY INC       5.306105e+10  \n",
              "205431                             PUGET SOUND ENERGY INC       5.306105e+10  \n",
              "205433  BONNEVILLE POWER ADMINISTRATION||PUD NO 1 OF C...       5.301104e+10  \n",
              "205436  BONNEVILLE POWER ADMINISTRATION||AVISTA CORP||...       5.306301e+10  \n",
              "205437      PUGET SOUND ENERGY INC||CITY OF TACOMA - (WA)       5.303303e+10  \n",
              "\n",
              "[82351 rows x 17 columns]"
            ],
            "text/html": [
              "\n",
              "  <div id=\"df-d6d4b92d-bfca-48a0-bffe-3542515ba110\" class=\"colab-df-container\">\n",
              "    <div>\n",
              "<style scoped>\n",
              "    .dataframe tbody tr th:only-of-type {\n",
              "        vertical-align: middle;\n",
              "    }\n",
              "\n",
              "    .dataframe tbody tr th {\n",
              "        vertical-align: top;\n",
              "    }\n",
              "\n",
              "    .dataframe thead th {\n",
              "        text-align: right;\n",
              "    }\n",
              "</style>\n",
              "<table border=\"1\" class=\"dataframe\">\n",
              "  <thead>\n",
              "    <tr style=\"text-align: right;\">\n",
              "      <th></th>\n",
              "      <th>VIN (1-10)</th>\n",
              "      <th>County</th>\n",
              "      <th>City</th>\n",
              "      <th>State</th>\n",
              "      <th>Postal Code</th>\n",
              "      <th>Model Year</th>\n",
              "      <th>Make</th>\n",
              "      <th>Model</th>\n",
              "      <th>Electric Vehicle Type</th>\n",
              "      <th>Clean Alternative Fuel Vehicle (CAFV) Eligibility</th>\n",
              "      <th>Electric Range</th>\n",
              "      <th>Base MSRP</th>\n",
              "      <th>Legislative District</th>\n",
              "      <th>DOL Vehicle ID</th>\n",
              "      <th>Vehicle Location</th>\n",
              "      <th>Electric Utility</th>\n",
              "      <th>2020 Census Tract</th>\n",
              "    </tr>\n",
              "  </thead>\n",
              "  <tbody>\n",
              "    <tr>\n",
              "      <th>0</th>\n",
              "      <td>JTMAB3FV3P</td>\n",
              "      <td>Kitsap</td>\n",
              "      <td>Seabeck</td>\n",
              "      <td>WA</td>\n",
              "      <td>98380.0</td>\n",
              "      <td>2023</td>\n",
              "      <td>TOYOTA</td>\n",
              "      <td>RAV4 PRIME</td>\n",
              "      <td>0</td>\n",
              "      <td>Clean Alternative Fuel Vehicle Eligible</td>\n",
              "      <td>42.0</td>\n",
              "      <td>0.0</td>\n",
              "      <td>35.0</td>\n",
              "      <td>240684006</td>\n",
              "      <td>POINT (-122.8728334 47.5798304)</td>\n",
              "      <td>PUGET SOUND ENERGY INC</td>\n",
              "      <td>5.303509e+10</td>\n",
              "    </tr>\n",
              "    <tr>\n",
              "      <th>1</th>\n",
              "      <td>1N4AZ1CP6J</td>\n",
              "      <td>Kitsap</td>\n",
              "      <td>Bremerton</td>\n",
              "      <td>WA</td>\n",
              "      <td>98312.0</td>\n",
              "      <td>2018</td>\n",
              "      <td>NISSAN</td>\n",
              "      <td>LEAF</td>\n",
              "      <td>1</td>\n",
              "      <td>Clean Alternative Fuel Vehicle Eligible</td>\n",
              "      <td>151.0</td>\n",
              "      <td>0.0</td>\n",
              "      <td>35.0</td>\n",
              "      <td>474183811</td>\n",
              "      <td>POINT (-122.6961203 47.5759584)</td>\n",
              "      <td>PUGET SOUND ENERGY INC</td>\n",
              "      <td>5.303508e+10</td>\n",
              "    </tr>\n",
              "    <tr>\n",
              "      <th>2</th>\n",
              "      <td>5YJ3E1EA4L</td>\n",
              "      <td>King</td>\n",
              "      <td>Seattle</td>\n",
              "      <td>WA</td>\n",
              "      <td>98101.0</td>\n",
              "      <td>2020</td>\n",
              "      <td>TESLA</td>\n",
              "      <td>MODEL 3</td>\n",
              "      <td>1</td>\n",
              "      <td>Clean Alternative Fuel Vehicle Eligible</td>\n",
              "      <td>266.0</td>\n",
              "      <td>0.0</td>\n",
              "      <td>43.0</td>\n",
              "      <td>113120017</td>\n",
              "      <td>POINT (-122.3340795 47.6099315)</td>\n",
              "      <td>CITY OF SEATTLE - (WA)|CITY OF TACOMA - (WA)</td>\n",
              "      <td>5.303301e+10</td>\n",
              "    </tr>\n",
              "    <tr>\n",
              "      <th>4</th>\n",
              "      <td>1G1FX6S00H</td>\n",
              "      <td>Thurston</td>\n",
              "      <td>Yelm</td>\n",
              "      <td>WA</td>\n",
              "      <td>98597.0</td>\n",
              "      <td>2017</td>\n",
              "      <td>CHEVROLET</td>\n",
              "      <td>BOLT EV</td>\n",
              "      <td>1</td>\n",
              "      <td>Clean Alternative Fuel Vehicle Eligible</td>\n",
              "      <td>238.0</td>\n",
              "      <td>0.0</td>\n",
              "      <td>20.0</td>\n",
              "      <td>176448940</td>\n",
              "      <td>POINT (-122.5715761 46.9095798)</td>\n",
              "      <td>PUGET SOUND ENERGY INC</td>\n",
              "      <td>5.306701e+10</td>\n",
              "    </tr>\n",
              "    <tr>\n",
              "      <th>5</th>\n",
              "      <td>5YJYGDEE5L</td>\n",
              "      <td>Snohomish</td>\n",
              "      <td>Lynnwood</td>\n",
              "      <td>WA</td>\n",
              "      <td>98036.0</td>\n",
              "      <td>2020</td>\n",
              "      <td>TESLA</td>\n",
              "      <td>MODEL Y</td>\n",
              "      <td>1</td>\n",
              "      <td>Clean Alternative Fuel Vehicle Eligible</td>\n",
              "      <td>291.0</td>\n",
              "      <td>0.0</td>\n",
              "      <td>21.0</td>\n",
              "      <td>124511187</td>\n",
              "      <td>POINT (-122.287143 47.812199)</td>\n",
              "      <td>PUGET SOUND ENERGY INC</td>\n",
              "      <td>5.306105e+10</td>\n",
              "    </tr>\n",
              "    <tr>\n",
              "      <th>...</th>\n",
              "      <td>...</td>\n",
              "      <td>...</td>\n",
              "      <td>...</td>\n",
              "      <td>...</td>\n",
              "      <td>...</td>\n",
              "      <td>...</td>\n",
              "      <td>...</td>\n",
              "      <td>...</td>\n",
              "      <td>...</td>\n",
              "      <td>...</td>\n",
              "      <td>...</td>\n",
              "      <td>...</td>\n",
              "      <td>...</td>\n",
              "      <td>...</td>\n",
              "      <td>...</td>\n",
              "      <td>...</td>\n",
              "      <td>...</td>\n",
              "    </tr>\n",
              "    <tr>\n",
              "      <th>205426</th>\n",
              "      <td>KNDCE3LG9L</td>\n",
              "      <td>Snohomish</td>\n",
              "      <td>Marysville</td>\n",
              "      <td>WA</td>\n",
              "      <td>98270.0</td>\n",
              "      <td>2020</td>\n",
              "      <td>KIA</td>\n",
              "      <td>NIRO</td>\n",
              "      <td>1</td>\n",
              "      <td>Clean Alternative Fuel Vehicle Eligible</td>\n",
              "      <td>239.0</td>\n",
              "      <td>0.0</td>\n",
              "      <td>38.0</td>\n",
              "      <td>172207248</td>\n",
              "      <td>POINT (-122.1515174 48.0650751)</td>\n",
              "      <td>PUGET SOUND ENERGY INC</td>\n",
              "      <td>5.306105e+10</td>\n",
              "    </tr>\n",
              "    <tr>\n",
              "      <th>205431</th>\n",
              "      <td>5YJ3E1EA4L</td>\n",
              "      <td>Snohomish</td>\n",
              "      <td>Marysville</td>\n",
              "      <td>WA</td>\n",
              "      <td>98270.0</td>\n",
              "      <td>2020</td>\n",
              "      <td>TESLA</td>\n",
              "      <td>MODEL 3</td>\n",
              "      <td>1</td>\n",
              "      <td>Clean Alternative Fuel Vehicle Eligible</td>\n",
              "      <td>266.0</td>\n",
              "      <td>0.0</td>\n",
              "      <td>38.0</td>\n",
              "      <td>127376686</td>\n",
              "      <td>POINT (-122.1515174 48.0650751)</td>\n",
              "      <td>PUGET SOUND ENERGY INC</td>\n",
              "      <td>5.306105e+10</td>\n",
              "    </tr>\n",
              "    <tr>\n",
              "      <th>205433</th>\n",
              "      <td>WA1E2AFY9P</td>\n",
              "      <td>Clark</td>\n",
              "      <td>Vancouver</td>\n",
              "      <td>WA</td>\n",
              "      <td>98664.0</td>\n",
              "      <td>2023</td>\n",
              "      <td>AUDI</td>\n",
              "      <td>Q5 E</td>\n",
              "      <td>0</td>\n",
              "      <td>Not eligible due to low battery range</td>\n",
              "      <td>23.0</td>\n",
              "      <td>0.0</td>\n",
              "      <td>49.0</td>\n",
              "      <td>240695682</td>\n",
              "      <td>POINT (-122.575383 45.620105)</td>\n",
              "      <td>BONNEVILLE POWER ADMINISTRATION||PUD NO 1 OF C...</td>\n",
              "      <td>5.301104e+10</td>\n",
              "    </tr>\n",
              "    <tr>\n",
              "      <th>205436</th>\n",
              "      <td>5YJXCDE22H</td>\n",
              "      <td>Spokane</td>\n",
              "      <td>Cheney</td>\n",
              "      <td>WA</td>\n",
              "      <td>99004.0</td>\n",
              "      <td>2017</td>\n",
              "      <td>TESLA</td>\n",
              "      <td>MODEL X</td>\n",
              "      <td>1</td>\n",
              "      <td>Clean Alternative Fuel Vehicle Eligible</td>\n",
              "      <td>200.0</td>\n",
              "      <td>0.0</td>\n",
              "      <td>6.0</td>\n",
              "      <td>221631588</td>\n",
              "      <td>POINT (-117.5836098 47.4951312)</td>\n",
              "      <td>BONNEVILLE POWER ADMINISTRATION||AVISTA CORP||...</td>\n",
              "      <td>5.306301e+10</td>\n",
              "    </tr>\n",
              "    <tr>\n",
              "      <th>205437</th>\n",
              "      <td>5YJ3E1EA3J</td>\n",
              "      <td>King</td>\n",
              "      <td>Vashon</td>\n",
              "      <td>WA</td>\n",
              "      <td>98070.0</td>\n",
              "      <td>2018</td>\n",
              "      <td>TESLA</td>\n",
              "      <td>MODEL 3</td>\n",
              "      <td>1</td>\n",
              "      <td>Clean Alternative Fuel Vehicle Eligible</td>\n",
              "      <td>215.0</td>\n",
              "      <td>0.0</td>\n",
              "      <td>34.0</td>\n",
              "      <td>336983496</td>\n",
              "      <td>POINT (-122.466938 47.429244)</td>\n",
              "      <td>PUGET SOUND ENERGY INC||CITY OF TACOMA - (WA)</td>\n",
              "      <td>5.303303e+10</td>\n",
              "    </tr>\n",
              "  </tbody>\n",
              "</table>\n",
              "<p>82351 rows × 17 columns</p>\n",
              "</div>\n",
              "    <div class=\"colab-df-buttons\">\n",
              "\n",
              "  <div class=\"colab-df-container\">\n",
              "    <button class=\"colab-df-convert\" onclick=\"convertToInteractive('df-d6d4b92d-bfca-48a0-bffe-3542515ba110')\"\n",
              "            title=\"Convert this dataframe to an interactive table.\"\n",
              "            style=\"display:none;\">\n",
              "\n",
              "  <svg xmlns=\"http://www.w3.org/2000/svg\" height=\"24px\" viewBox=\"0 -960 960 960\">\n",
              "    <path d=\"M120-120v-720h720v720H120Zm60-500h600v-160H180v160Zm220 220h160v-160H400v160Zm0 220h160v-160H400v160ZM180-400h160v-160H180v160Zm440 0h160v-160H620v160ZM180-180h160v-160H180v160Zm440 0h160v-160H620v160Z\"/>\n",
              "  </svg>\n",
              "    </button>\n",
              "\n",
              "  <style>\n",
              "    .colab-df-container {\n",
              "      display:flex;\n",
              "      gap: 12px;\n",
              "    }\n",
              "\n",
              "    .colab-df-convert {\n",
              "      background-color: #E8F0FE;\n",
              "      border: none;\n",
              "      border-radius: 50%;\n",
              "      cursor: pointer;\n",
              "      display: none;\n",
              "      fill: #1967D2;\n",
              "      height: 32px;\n",
              "      padding: 0 0 0 0;\n",
              "      width: 32px;\n",
              "    }\n",
              "\n",
              "    .colab-df-convert:hover {\n",
              "      background-color: #E2EBFA;\n",
              "      box-shadow: 0px 1px 2px rgba(60, 64, 67, 0.3), 0px 1px 3px 1px rgba(60, 64, 67, 0.15);\n",
              "      fill: #174EA6;\n",
              "    }\n",
              "\n",
              "    .colab-df-buttons div {\n",
              "      margin-bottom: 4px;\n",
              "    }\n",
              "\n",
              "    [theme=dark] .colab-df-convert {\n",
              "      background-color: #3B4455;\n",
              "      fill: #D2E3FC;\n",
              "    }\n",
              "\n",
              "    [theme=dark] .colab-df-convert:hover {\n",
              "      background-color: #434B5C;\n",
              "      box-shadow: 0px 1px 3px 1px rgba(0, 0, 0, 0.15);\n",
              "      filter: drop-shadow(0px 1px 2px rgba(0, 0, 0, 0.3));\n",
              "      fill: #FFFFFF;\n",
              "    }\n",
              "  </style>\n",
              "\n",
              "    <script>\n",
              "      const buttonEl =\n",
              "        document.querySelector('#df-d6d4b92d-bfca-48a0-bffe-3542515ba110 button.colab-df-convert');\n",
              "      buttonEl.style.display =\n",
              "        google.colab.kernel.accessAllowed ? 'block' : 'none';\n",
              "\n",
              "      async function convertToInteractive(key) {\n",
              "        const element = document.querySelector('#df-d6d4b92d-bfca-48a0-bffe-3542515ba110');\n",
              "        const dataTable =\n",
              "          await google.colab.kernel.invokeFunction('convertToInteractive',\n",
              "                                                    [key], {});\n",
              "        if (!dataTable) return;\n",
              "\n",
              "        const docLinkHtml = 'Like what you see? Visit the ' +\n",
              "          '<a target=\"_blank\" href=https://colab.research.google.com/notebooks/data_table.ipynb>data table notebook</a>'\n",
              "          + ' to learn more about interactive tables.';\n",
              "        element.innerHTML = '';\n",
              "        dataTable['output_type'] = 'display_data';\n",
              "        await google.colab.output.renderOutput(dataTable, element);\n",
              "        const docLink = document.createElement('div');\n",
              "        docLink.innerHTML = docLinkHtml;\n",
              "        element.appendChild(docLink);\n",
              "      }\n",
              "    </script>\n",
              "  </div>\n",
              "\n",
              "\n",
              "<div id=\"df-68ef1117-fe4f-4bd7-9247-0587caf4dc04\">\n",
              "  <button class=\"colab-df-quickchart\" onclick=\"quickchart('df-68ef1117-fe4f-4bd7-9247-0587caf4dc04')\"\n",
              "            title=\"Suggest charts\"\n",
              "            style=\"display:none;\">\n",
              "\n",
              "<svg xmlns=\"http://www.w3.org/2000/svg\" height=\"24px\"viewBox=\"0 0 24 24\"\n",
              "     width=\"24px\">\n",
              "    <g>\n",
              "        <path d=\"M19 3H5c-1.1 0-2 .9-2 2v14c0 1.1.9 2 2 2h14c1.1 0 2-.9 2-2V5c0-1.1-.9-2-2-2zM9 17H7v-7h2v7zm4 0h-2V7h2v10zm4 0h-2v-4h2v4z\"/>\n",
              "    </g>\n",
              "</svg>\n",
              "  </button>\n",
              "\n",
              "<style>\n",
              "  .colab-df-quickchart {\n",
              "      --bg-color: #E8F0FE;\n",
              "      --fill-color: #1967D2;\n",
              "      --hover-bg-color: #E2EBFA;\n",
              "      --hover-fill-color: #174EA6;\n",
              "      --disabled-fill-color: #AAA;\n",
              "      --disabled-bg-color: #DDD;\n",
              "  }\n",
              "\n",
              "  [theme=dark] .colab-df-quickchart {\n",
              "      --bg-color: #3B4455;\n",
              "      --fill-color: #D2E3FC;\n",
              "      --hover-bg-color: #434B5C;\n",
              "      --hover-fill-color: #FFFFFF;\n",
              "      --disabled-bg-color: #3B4455;\n",
              "      --disabled-fill-color: #666;\n",
              "  }\n",
              "\n",
              "  .colab-df-quickchart {\n",
              "    background-color: var(--bg-color);\n",
              "    border: none;\n",
              "    border-radius: 50%;\n",
              "    cursor: pointer;\n",
              "    display: none;\n",
              "    fill: var(--fill-color);\n",
              "    height: 32px;\n",
              "    padding: 0;\n",
              "    width: 32px;\n",
              "  }\n",
              "\n",
              "  .colab-df-quickchart:hover {\n",
              "    background-color: var(--hover-bg-color);\n",
              "    box-shadow: 0 1px 2px rgba(60, 64, 67, 0.3), 0 1px 3px 1px rgba(60, 64, 67, 0.15);\n",
              "    fill: var(--button-hover-fill-color);\n",
              "  }\n",
              "\n",
              "  .colab-df-quickchart-complete:disabled,\n",
              "  .colab-df-quickchart-complete:disabled:hover {\n",
              "    background-color: var(--disabled-bg-color);\n",
              "    fill: var(--disabled-fill-color);\n",
              "    box-shadow: none;\n",
              "  }\n",
              "\n",
              "  .colab-df-spinner {\n",
              "    border: 2px solid var(--fill-color);\n",
              "    border-color: transparent;\n",
              "    border-bottom-color: var(--fill-color);\n",
              "    animation:\n",
              "      spin 1s steps(1) infinite;\n",
              "  }\n",
              "\n",
              "  @keyframes spin {\n",
              "    0% {\n",
              "      border-color: transparent;\n",
              "      border-bottom-color: var(--fill-color);\n",
              "      border-left-color: var(--fill-color);\n",
              "    }\n",
              "    20% {\n",
              "      border-color: transparent;\n",
              "      border-left-color: var(--fill-color);\n",
              "      border-top-color: var(--fill-color);\n",
              "    }\n",
              "    30% {\n",
              "      border-color: transparent;\n",
              "      border-left-color: var(--fill-color);\n",
              "      border-top-color: var(--fill-color);\n",
              "      border-right-color: var(--fill-color);\n",
              "    }\n",
              "    40% {\n",
              "      border-color: transparent;\n",
              "      border-right-color: var(--fill-color);\n",
              "      border-top-color: var(--fill-color);\n",
              "    }\n",
              "    60% {\n",
              "      border-color: transparent;\n",
              "      border-right-color: var(--fill-color);\n",
              "    }\n",
              "    80% {\n",
              "      border-color: transparent;\n",
              "      border-right-color: var(--fill-color);\n",
              "      border-bottom-color: var(--fill-color);\n",
              "    }\n",
              "    90% {\n",
              "      border-color: transparent;\n",
              "      border-bottom-color: var(--fill-color);\n",
              "    }\n",
              "  }\n",
              "</style>\n",
              "\n",
              "  <script>\n",
              "    async function quickchart(key) {\n",
              "      const quickchartButtonEl =\n",
              "        document.querySelector('#' + key + ' button');\n",
              "      quickchartButtonEl.disabled = true;  // To prevent multiple clicks.\n",
              "      quickchartButtonEl.classList.add('colab-df-spinner');\n",
              "      try {\n",
              "        const charts = await google.colab.kernel.invokeFunction(\n",
              "            'suggestCharts', [key], {});\n",
              "      } catch (error) {\n",
              "        console.error('Error during call to suggestCharts:', error);\n",
              "      }\n",
              "      quickchartButtonEl.classList.remove('colab-df-spinner');\n",
              "      quickchartButtonEl.classList.add('colab-df-quickchart-complete');\n",
              "    }\n",
              "    (() => {\n",
              "      let quickchartButtonEl =\n",
              "        document.querySelector('#df-68ef1117-fe4f-4bd7-9247-0587caf4dc04 button');\n",
              "      quickchartButtonEl.style.display =\n",
              "        google.colab.kernel.accessAllowed ? 'block' : 'none';\n",
              "    })();\n",
              "  </script>\n",
              "</div>\n",
              "\n",
              "  <div id=\"id_3df9780b-ead4-45f7-8f39-dd0726dad710\">\n",
              "    <style>\n",
              "      .colab-df-generate {\n",
              "        background-color: #E8F0FE;\n",
              "        border: none;\n",
              "        border-radius: 50%;\n",
              "        cursor: pointer;\n",
              "        display: none;\n",
              "        fill: #1967D2;\n",
              "        height: 32px;\n",
              "        padding: 0 0 0 0;\n",
              "        width: 32px;\n",
              "      }\n",
              "\n",
              "      .colab-df-generate:hover {\n",
              "        background-color: #E2EBFA;\n",
              "        box-shadow: 0px 1px 2px rgba(60, 64, 67, 0.3), 0px 1px 3px 1px rgba(60, 64, 67, 0.15);\n",
              "        fill: #174EA6;\n",
              "      }\n",
              "\n",
              "      [theme=dark] .colab-df-generate {\n",
              "        background-color: #3B4455;\n",
              "        fill: #D2E3FC;\n",
              "      }\n",
              "\n",
              "      [theme=dark] .colab-df-generate:hover {\n",
              "        background-color: #434B5C;\n",
              "        box-shadow: 0px 1px 3px 1px rgba(0, 0, 0, 0.15);\n",
              "        filter: drop-shadow(0px 1px 2px rgba(0, 0, 0, 0.3));\n",
              "        fill: #FFFFFF;\n",
              "      }\n",
              "    </style>\n",
              "    <button class=\"colab-df-generate\" onclick=\"generateWithVariable('eCar')\"\n",
              "            title=\"Generate code using this dataframe.\"\n",
              "            style=\"display:none;\">\n",
              "\n",
              "  <svg xmlns=\"http://www.w3.org/2000/svg\" height=\"24px\"viewBox=\"0 0 24 24\"\n",
              "       width=\"24px\">\n",
              "    <path d=\"M7,19H8.4L18.45,9,17,7.55,7,17.6ZM5,21V16.75L18.45,3.32a2,2,0,0,1,2.83,0l1.4,1.43a1.91,1.91,0,0,1,.58,1.4,1.91,1.91,0,0,1-.58,1.4L9.25,21ZM18.45,9,17,7.55Zm-12,3A5.31,5.31,0,0,0,4.9,8.1,5.31,5.31,0,0,0,1,6.5,5.31,5.31,0,0,0,4.9,4.9,5.31,5.31,0,0,0,6.5,1,5.31,5.31,0,0,0,8.1,4.9,5.31,5.31,0,0,0,12,6.5,5.46,5.46,0,0,0,6.5,12Z\"/>\n",
              "  </svg>\n",
              "    </button>\n",
              "    <script>\n",
              "      (() => {\n",
              "      const buttonEl =\n",
              "        document.querySelector('#id_3df9780b-ead4-45f7-8f39-dd0726dad710 button.colab-df-generate');\n",
              "      buttonEl.style.display =\n",
              "        google.colab.kernel.accessAllowed ? 'block' : 'none';\n",
              "\n",
              "      buttonEl.onclick = () => {\n",
              "        google.colab.notebook.generateWithVariable('eCar');\n",
              "      }\n",
              "      })();\n",
              "    </script>\n",
              "  </div>\n",
              "\n",
              "    </div>\n",
              "  </div>\n"
            ],
            "application/vnd.google.colaboratory.intrinsic+json": {
              "type": "dataframe",
              "variable_name": "eCar",
              "summary": "{\n  \"name\": \"eCar\",\n  \"rows\": 82351,\n  \"fields\": [\n    {\n      \"column\": \"VIN (1-10)\",\n      \"properties\": {\n        \"dtype\": \"category\",\n        \"num_unique_values\": 6600,\n        \"samples\": [\n          \"YV4BC0PM3H\",\n          \"2C4RC1L78P\",\n          \"YV4BR0CL0K\"\n        ],\n        \"semantic_type\": \"\",\n        \"description\": \"\"\n      }\n    },\n    {\n      \"column\": \"County\",\n      \"properties\": {\n        \"dtype\": \"category\",\n        \"num_unique_values\": 153,\n        \"samples\": [\n          \"Travis\",\n          \"Pitt\",\n          \"St. Louis\"\n        ],\n        \"semantic_type\": \"\",\n        \"description\": \"\"\n      }\n    },\n    {\n      \"column\": \"City\",\n      \"properties\": {\n        \"dtype\": \"category\",\n        \"num_unique_values\": 608,\n        \"samples\": [\n          \"Nordland\",\n          \"Kirkland\",\n          \"White Swan\"\n        ],\n        \"semantic_type\": \"\",\n        \"description\": \"\"\n      }\n    },\n    {\n      \"column\": \"State\",\n      \"properties\": {\n        \"dtype\": \"category\",\n        \"num_unique_values\": 40,\n        \"samples\": [\n          \"SC\",\n          \"FL\",\n          \"TX\"\n        ],\n        \"semantic_type\": \"\",\n        \"description\": \"\"\n      }\n    },\n    {\n      \"column\": \"Postal Code\",\n      \"properties\": {\n        \"dtype\": \"number\",\n        \"std\": 2732.082619549357,\n        \"min\": 2842.0,\n        \"max\": 99403.0,\n        \"num_unique_values\": 720,\n        \"samples\": [\n          98326.0,\n          98245.0,\n          98831.0\n        ],\n        \"semantic_type\": \"\",\n        \"description\": \"\"\n      }\n    },\n    {\n      \"column\": \"Model Year\",\n      \"properties\": {\n        \"dtype\": \"number\",\n        \"std\": 2,\n        \"min\": 2002,\n        \"max\": 2025,\n        \"num_unique_values\": 19,\n        \"samples\": [\n          2023,\n          2016,\n          2015\n        ],\n        \"semantic_type\": \"\",\n        \"description\": \"\"\n      }\n    },\n    {\n      \"column\": \"Make\",\n      \"properties\": {\n        \"dtype\": \"category\",\n        \"num_unique_values\": 32,\n        \"samples\": [\n          \"TH!NK\",\n          \"VOLVO\",\n          \"POLESTAR\"\n        ],\n        \"semantic_type\": \"\",\n        \"description\": \"\"\n      }\n    },\n    {\n      \"column\": \"Model\",\n      \"properties\": {\n        \"dtype\": \"category\",\n        \"num_unique_values\": 88,\n        \"samples\": [\n          \"S90\",\n          \"RAV4 PRIME\",\n          \"XC90\"\n        ],\n        \"semantic_type\": \"\",\n        \"description\": \"\"\n      }\n    },\n    {\n      \"column\": \"Electric Vehicle Type\",\n      \"properties\": {\n        \"dtype\": \"date\",\n        \"min\": 0,\n        \"max\": 1,\n        \"num_unique_values\": 2,\n        \"samples\": [\n          1,\n          0\n        ],\n        \"semantic_type\": \"\",\n        \"description\": \"\"\n      }\n    },\n    {\n      \"column\": \"Clean Alternative Fuel Vehicle (CAFV) Eligibility\",\n      \"properties\": {\n        \"dtype\": \"category\",\n        \"num_unique_values\": 2,\n        \"samples\": [\n          \"Not eligible due to low battery range\",\n          \"Clean Alternative Fuel Vehicle Eligible\"\n        ],\n        \"semantic_type\": \"\",\n        \"description\": \"\"\n      }\n    },\n    {\n      \"column\": \"Electric Range\",\n      \"properties\": {\n        \"dtype\": \"number\",\n        \"std\": 103.36358048246223,\n        \"min\": 6.0,\n        \"max\": 337.0,\n        \"num_unique_values\": 91,\n        \"samples\": [\n          153.0,\n          22.0\n        ],\n        \"semantic_type\": \"\",\n        \"description\": \"\"\n      }\n    },\n    {\n      \"column\": \"Base MSRP\",\n      \"properties\": {\n        \"dtype\": \"number\",\n        \"std\": 12128.991912392774,\n        \"min\": 0.0,\n        \"max\": 845000.0,\n        \"num_unique_values\": 31,\n        \"samples\": [\n          90700.0,\n          59900.0\n        ],\n        \"semantic_type\": \"\",\n        \"description\": \"\"\n      }\n    },\n    {\n      \"column\": \"Legislative District\",\n      \"properties\": {\n        \"dtype\": \"number\",\n        \"std\": 14.72739573626556,\n        \"min\": 1.0,\n        \"max\": 49.0,\n        \"num_unique_values\": 49,\n        \"samples\": [\n          44.0,\n          29.0\n        ],\n        \"semantic_type\": \"\",\n        \"description\": \"\"\n      }\n    },\n    {\n      \"column\": \"DOL Vehicle ID\",\n      \"properties\": {\n        \"dtype\": \"number\",\n        \"std\": 101269572,\n        \"min\": 4469,\n        \"max\": 479254772,\n        \"num_unique_values\": 82351,\n        \"samples\": [\n          268420841,\n          136765261\n        ],\n        \"semantic_type\": \"\",\n        \"description\": \"\"\n      }\n    },\n    {\n      \"column\": \"Vehicle Location\",\n      \"properties\": {\n        \"dtype\": \"category\",\n        \"num_unique_values\": 719,\n        \"samples\": [\n          \"POINT (-122.6238365 45.6456491)\",\n          \"POINT (-122.8484397 47.8157721)\"\n        ],\n        \"semantic_type\": \"\",\n        \"description\": \"\"\n      }\n    },\n    {\n      \"column\": \"Electric Utility\",\n      \"properties\": {\n        \"dtype\": \"category\",\n        \"num_unique_values\": 72,\n        \"samples\": [\n          \"MODERN ELECTRIC WATER COMPANY\",\n          \"BONNEVILLE POWER ADMINISTRATION||CITY OF MCCLEARY - (WA)\"\n        ],\n        \"semantic_type\": \"\",\n        \"description\": \"\"\n      }\n    },\n    {\n      \"column\": \"2020 Census Tract\",\n      \"properties\": {\n        \"dtype\": \"number\",\n        \"std\": 1679505209.8126671,\n        \"min\": 1001020100.0,\n        \"max\": 55009020504.0,\n        \"num_unique_values\": 1966,\n        \"samples\": [\n          53005010204.0,\n          53073000203.0\n        ],\n        \"semantic_type\": \"\",\n        \"description\": \"\"\n      }\n    }\n  ]\n}"
            }
          },
          "metadata": {},
          "execution_count": 3
        }
      ]
    },
    {
      "cell_type": "markdown",
      "source": [
        "**Interpretation**\n",
        "- The eCar dataset now has improved quality since missing values have been removed, and low-range BEVs, which could have skewed the results, have been filtered out. By removing BEVs with less than 90 miles of range, the dataset now focuses on more practical electric vehicles that are likely more relevant to most users."
      ],
      "metadata": {
        "id": "Ao8eywN9BaxD"
      }
    },
    {
      "cell_type": "markdown",
      "source": [
        "2. The code below stores relevant columns as variables."
      ],
      "metadata": {
        "id": "Dgd9ZQWMAvjI"
      }
    },
    {
      "cell_type": "code",
      "source": [
        "X = eCar[['Electric Range']].values.reshape(-1, 1)\n",
        "y = eCar[['Electric Vehicle Type']].values.reshape(-1, 1).astype(int)"
      ],
      "metadata": {
        "id": "Wwk9-1cNrXQ1"
      },
      "execution_count": null,
      "outputs": []
    },
    {
      "cell_type": "markdown",
      "source": [
        "**Interpretation**\n",
        "- X represents the Electric Range of the vehicles, and y represents the Electric Vehicle Type, either 0 or 1. Both are reshaped to the appropriate format for further analysis or modeling."
      ],
      "metadata": {
        "id": "ofGiF7QQDu-c"
      }
    },
    {
      "cell_type": "markdown",
      "source": [
        "3. This code trains a logistic regression model to predict whether a vehicle is a Battery Electric Vehicle (BEV) or a Plug-in Hybrid Electric Vehicle (PHEV) based on the Electric Range, and it displays the result using a plot."
      ],
      "metadata": {
        "id": "TL7TCr0zAwMR"
      }
    },
    {
      "cell_type": "code",
      "source": [
        "logisticModel = LogisticRegression()\n",
        "logisticModel.fit(X, np.ravel(y.astype(int)))\n",
        "\n",
        "plt.scatter(X, y, color = 'blue')\n",
        "xDelta = np.linspace(X.min(), X.max(), 10000)\n",
        "yPredicted = logisticModel.predict(X).reshape(-1, 1).astype(int)\n",
        "yDeltaProb = logisticModel.predict_proba(xDelta.reshape(-1, 1))[:, 1]\n",
        "plt.plot(xDelta, yDeltaProb, color = 'red')\n",
        "plt.xlabel('Electric Range (miles)')\n",
        "plt.ylabel('Probability of Electric Vehicle Type (1 = BEV, 0 = PHEV)')\n",
        "plt.show()"
      ],
      "metadata": {
        "id": "QQqjq1JgsvS-",
        "colab": {
          "base_uri": "https://localhost:8080/",
          "height": 449
        },
        "outputId": "3ed3f800-5cc1-4102-bd80-dafc01eb7f9b"
      },
      "execution_count": null,
      "outputs": [
        {
          "output_type": "display_data",
          "data": {
            "text/plain": [
              "<Figure size 640x480 with 1 Axes>"
            ],
            "image/png": "[encoded data removed]"
          },
          "metadata": {}
        }
      ]
    },
    {
      "cell_type": "markdown",
      "source": [
        "**Interpretation**\n",
        "- It visualizes the actual data points and the predicted probabilities, showing how the likelihood of a vehicle being a BEV changes with increasing range.\n",
        "- It effectively shows that vehicles with longer electric ranges are more likely to be BEVs, whereas shorter-range vehicles are more likely to be PHEVs."
      ],
      "metadata": {
        "id": "wj9u6isZDVKA"
      }
    },
    {
      "cell_type": "markdown",
      "source": [
        "# Conclusion"
      ],
      "metadata": {
        "id": "VltMVEka80-Q"
      }
    },
    {
      "cell_type": "markdown",
      "source": [
        "Our analysis provides useful insights into how electric vehicles (EVs) are improving and being adopted in Washington State. The linear regression analysis shows a positive relationship between the year an EV was made and its electric range, meaning that newer EVs can travel longer distances on a single charge. This reflects advancements in battery technology and the growing demand for EVs that are more practical for both daily use and longer trips. By focusing on EVs with at least 200 miles of range, the study highlights the importance of newer, more capable models. It also suggests that areas with higher EV adoption may have better infrastructure, more access to newer models, and populations that are more environmentally aware or interested in new technologies.\n",
        "\n",
        "The multiple linear regression, visualized with a 3D plot, shows a clear relationship between a vehicle's model year, its specific model (encoded numerically), and its electric range. The regression plane indicates that newer vehicle models and certain specific models are associated with longer electric ranges. This finding highlights technological advancements over time and consumer preferences for models that offer extended range capabilities.\n",
        "\n",
        "The logistic regression analysis effectively distinguishes between Battery Electric Vehicles (BEVs) and Plug-in Hybrid Electric Vehicles (PHEVs) based on electric range. The visualization demonstrates that as the electric range increases, the probability of a vehicle being a BEV also increases. Conversely, vehicles with shorter electric ranges are more likely to be PHEVs. This underscores electric range as a significant predictor of the type of EV."
      ],
      "metadata": {
        "id": "Yet0dePK84bg"
      }
    }
  ]
}